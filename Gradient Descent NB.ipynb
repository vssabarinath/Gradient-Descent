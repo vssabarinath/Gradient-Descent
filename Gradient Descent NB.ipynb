
{
 "cells": [
  {
   "cell_type": "code",
   "execution_count": 7,
   "id": "911d555e",
   "metadata": {},
   "outputs": [],
   "source": [
    "import numpy as np"
   ]
  },
  {
   "cell_type": "code",
   "execution_count": 14,
   "id": "86ec26a1",
   "metadata": {},
   "outputs": [
    {
     "name": "stdout",
     "output_type": "stream",
     "text": [
      "Enter the coefficent - a : 4\n",
      "Enter the coefficent - b : 543\n",
      "Enter the coefficent - c : 33\n",
      "Enter the coefficent - d : 1\n"
     ]
    }
   ],
   "source": [
    "a = float(input(\"Enter the coefficent - a : \"))\n",
    "b = float(input(\"Enter the coefficent - b : \"))\n",
    "c = float(input(\"Enter the coefficent - c : \"))\n",
    "d = float(input(\"Enter the coefficent - d : \"))"
   ]
  },
  {
   "cell_type": "code",
   "execution_count": 15,
   "id": "d65eea78",
   "metadata": {},
   "outputs": [],
   "source": [
    "x = np.random.rand()"
   ]
  },
  {
   "cell_type": "code",
   "execution_count": 16,
   "id": "8d3771dc",
   "metadata": {},
   "outputs": [],
   "source": [
    "learning_rate = .01\n",
    "epochs =100"
   ]
  },
  {
   "cell_type": "code",
   "execution_count": 17,
   "id": "2d8ecbcc",
   "metadata": {},
   "outputs": [],
   "source": [
    "for epoch in range(epochs):\n",
    "  value = a*x**3 + b*x**2 + d*x +c\n",
    "  gradient  = 3*a *x**2 + 2*b*x+c\n",
    "  if gradient < -1:\n",
    "    gradient =0\n",
    "    x -=  learning_rate *gradient"
   ]
  },
  {
   "cell_type": "code",
   "execution_count": 18,
   "id": "4882a0aa",
   "metadata": {},
   "outputs": [
    {
     "name": "stdout",
     "output_type": "stream",
     "text": [
      "The solution for x is approximately : 0.829388145091091\n"
     ]
    }
   ],
   "source": [
    "print(f\"The solution for x is approximately : {x}\")"
   ]
  },
  {
   "cell_type": "code",
   "execution_count": null,
   "id": "f9349f70",
   "metadata": {},
   "outputs": [],
   "source": []
  },
  {
   "cell_type": "code",
   "execution_count": null,
   "id": "ffa7e0d5",
   "metadata": {},
   "outputs": [],
   "source": []
  }
 ],
 "metadata": {
  "kernelspec": {
   "display_name": "Python 3 (ipykernel)",
   "language": "python",
   "name": "python3"
  },
  "language_info": {
   "codemirror_mode": {
    "name": "ipython",
    "version": 3
   },
   "file_extension": ".py",
   "mimetype": "text/x-python",
   "name": "python",
   "nbconvert_exporter": "python",
   "pygments_lexer": "ipython3",
   "version": "3.12.3"
  }
 },
 "nbformat": 4,
 "nbformat_minor": 5
}
